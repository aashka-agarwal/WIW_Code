{
 "cells": [
  {
   "cell_type": "code",
   "execution_count": 9,
   "id": "7a8907b5",
   "metadata": {},
   "outputs": [],
   "source": [
    "#importing packages as per requirements. \n",
    "import pandas as pd\n",
    "import string\n",
    "\n",
    "def web_traffic_transfer(root_url):   #function to parameterize the root_url \n",
    "        \n",
    "    alphabet_list = list(string.ascii_lowercase) #return a list of all lowercase letters to handle the files for the challenge. \n",
    "    combined_df = pd.DataFrame() #create an empty DataFrame object to store all the files.\n",
    "    \n",
    "    for i in alphabet_list:\n",
    "        url = root_url + i + \".csv\"\n",
    "        df = pd.read_csv(url)\n",
    "        combined_df = pd.concat([df, combined_df], ignore_index=True)\n",
    "        #ignore_index = True will ignore existing index and will generate a new index for the output file.\n",
    "\n",
    "    pivot_output_df = pd.pivot_table(combined_df, values = 'length', \n",
    "                               index=['user_id'], columns = 'path').reset_index().fillna(0) #fillna used to replace missing data with 0\n",
    "    return pivot_output_df\n",
    "\n",
    "\n",
    "\n",
    "root_url = \"https://public.wiwdata.com/engineering-challenge/data/\" #url can be changed as per requirements.\n",
    "output_file = web_traffic_transfer(root_url)\n",
    "\n",
    "output_file.to_csv('wiw_final_traffic.csv',index=False) #output files saved as 'wiw_final_traffic.csv' on your local desktop."
   ]
  },
  {
   "cell_type": "code",
   "execution_count": null,
   "id": "5f32bb98",
   "metadata": {},
   "outputs": [],
   "source": []
  }
 ],
 "metadata": {
  "kernelspec": {
   "display_name": "Python 3 (ipykernel)",
   "language": "python",
   "name": "python3"
  },
  "language_info": {
   "codemirror_mode": {
    "name": "ipython",
    "version": 3
   },
   "file_extension": ".py",
   "mimetype": "text/x-python",
   "name": "python",
   "nbconvert_exporter": "python",
   "pygments_lexer": "ipython3",
   "version": "3.11.5"
  }
 },
 "nbformat": 4,
 "nbformat_minor": 5
}
